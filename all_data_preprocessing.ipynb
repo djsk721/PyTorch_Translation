{
 "cells": [
  {
   "cell_type": "code",
   "execution_count": 1,
   "metadata": {},
   "outputs": [],
   "source": [
    "import random\n",
    "import re\n",
    "import numpy as np\n",
    "import pandas as pd\n",
    "from transformers import AutoTokenizer\n",
    "from transformers import AutoConfig, AutoModelForSeq2SeqLM, MBartForConditionalGeneration\n",
    "from transformers import DataCollatorForSeq2Seq\n",
    "import torch\n",
    "from torch.utils.data import DataLoader\n",
    "from datasets import Dataset, DatasetDict\n",
    "from transformers import Seq2SeqTrainingArguments\n",
    "from transformers import Seq2SeqTrainer\n",
    "import evaluate\n",
    "import numpy as np\n",
    "import os\n",
    "from datasets import load_dataset, concatenate_datasets"
   ]
  },
  {
   "cell_type": "code",
   "execution_count": null,
   "metadata": {},
   "outputs": [],
   "source": [
    "file_list = [\"한영번역/전체 데이터/\" + file for file in os.listdir('한영번역/전체 데이터/') if file.endswith('.json')]"
   ]
  },
  {
   "cell_type": "code",
   "execution_count": null,
   "metadata": {},
   "outputs": [],
   "source": [
    "datasets = Dataset.from_json(file_list[0], field='data')\n",
    "datasets = datasets.remove_columns([column_name for column_name in datasets.column_names if column_name not in ['en', 'ko']])"
   ]
  },
  {
   "cell_type": "code",
   "execution_count": null,
   "metadata": {},
   "outputs": [],
   "source": [
    "for index in range(1, len(file_list)):\n",
    "    dataset = Dataset.from_json(file_list[index], field='data')\n",
    "    dataset = dataset.remove_columns([column_name for column_name in dataset.column_names if column_name not in ['en', 'ko']])\n",
    "    datasets = concatenate_datasets([datasets, dataset])"
   ]
  },
  {
   "cell_type": "code",
   "execution_count": null,
   "metadata": {},
   "outputs": [],
   "source": [
    "datasets = datasets.rename_columns({\"ko\": \"SRC\", \"en\": \"TRG\"})"
   ]
  },
  {
   "cell_type": "code",
   "execution_count": null,
   "metadata": {},
   "outputs": [],
   "source": [
    "path = './한영번역/'\n",
    "train_df = pd.read_csv(path+'/Translation_dataset_split.csv')\n",
    "\n",
    "dataset = Dataset.from_pandas(train_df)\n",
    "\n",
    "\n",
    "train_test_valid_dataset = dataset.train_test_split(test_size=3000, seed=42)\n",
    "train_test_valid_dataset = DatasetDict({\n",
    "    'train': train_test_valid_dataset['train'],\n",
    "    'valid': train_test_valid_dataset['test']})"
   ]
  },
  {
   "cell_type": "code",
   "execution_count": null,
   "metadata": {},
   "outputs": [],
   "source": [
    "train_test_valid_dataset['train'] = concatenate_datasets([train_test_valid_dataset['train'], datasets])"
   ]
  },
  {
   "cell_type": "code",
   "execution_count": null,
   "metadata": {},
   "outputs": [],
   "source": [
    "train_test_valid_dataset.save_to_disk(\"AIHub_data_Total\")"
   ]
  },
  {
   "cell_type": "code",
   "execution_count": 2,
   "metadata": {},
   "outputs": [],
   "source": [
    "dataset = DatasetDict.load_from_disk('AIHub_data_Total')\n"
   ]
  },
  {
   "cell_type": "code",
   "execution_count": 3,
   "metadata": {},
   "outputs": [
    {
     "data": {
      "text/plain": [
       "DatasetDict({\n",
       "    train: Dataset({\n",
       "        features: ['SRC', 'TRG'],\n",
       "        num_rows: 9690651\n",
       "    })\n",
       "    valid: Dataset({\n",
       "        features: ['SRC', 'TRG'],\n",
       "        num_rows: 3000\n",
       "    })\n",
       "})"
      ]
     },
     "execution_count": 3,
     "metadata": {},
     "output_type": "execute_result"
    }
   ],
   "source": [
    "dataset"
   ]
  }
 ],
 "metadata": {
  "kernelspec": {
   "display_name": "Python 3",
   "language": "python",
   "name": "python3"
  },
  "language_info": {
   "codemirror_mode": {
    "name": "ipython",
    "version": 3
   },
   "file_extension": ".py",
   "mimetype": "text/x-python",
   "name": "python",
   "nbconvert_exporter": "python",
   "pygments_lexer": "ipython3",
   "version": "3.8.10"
  },
  "orig_nbformat": 4
 },
 "nbformat": 4,
 "nbformat_minor": 2
}
